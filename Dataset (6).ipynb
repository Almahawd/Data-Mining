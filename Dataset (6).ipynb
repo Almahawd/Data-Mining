{
  "metadata": {
    "kernelspec": {
      "name": "python",
      "display_name": "Python (Pyodide)",
      "language": "python"
    },
    "language_info": {
      "codemirror_mode": {
        "name": "python",
        "version": 3
      },
      "file_extension": ".py",
      "mimetype": "text/x-python",
      "name": "python",
      "nbconvert_exporter": "python",
      "pygments_lexer": "ipython3",
      "version": "3.8"
    }
  },
  "nbformat_minor": 4,
  "nbformat": 4,
  "cells": [
    {
      "cell_type": "markdown",
      "source": "# Description of the dataset",
      "metadata": {}
    },
    {
      "cell_type": "markdown",
      "source": "## Goal:\n\nOur project aims to use Python and data mining techniques on a heart failure prediction dataset. With attributes like age, sex, ChestPainType, RestingBP, Cholesterol, FastingBS, RestingECG, MaxHR, ExerciseAngina, Oldpeak, ST_Slope, and HeartDisease, we'll preprocess the data, apply different mining techniques, compare results, and share our findings on a GitHub repository with Jupyter notebooks. The focus is on creating effective models for heart failure prediction.",
      "metadata": {
        "jp-MarkdownHeadingCollapsed": true
      }
    },
    {
      "cell_type": "markdown",
      "source": "## Source of dataset:\n\nthe source of dataset is kaggle.\n[Link] (https://www.kaggle.com/datasets/fedesoriano/heart-failure-prediction) .",
      "metadata": {}
    },
    {
      "cell_type": "markdown",
      "source": "## General information:\n\nour dataset contains 12 attributes and 918 objects and the type of aatributes are\n\nNominal:\n\nSex\n\nChestPainType\n\nFastingBS\n\nRestingECG\n\nExerciseAngina\n\nST_Slope\n\nHeartDisease (assuming it represents categories)\n\nOrdinal:\n\nNone in the provided dataset\n\nBinary:\n\nFastingBS\n\nExerciseAngina\n\nNumeric:\n\nAge\n\nRestingBP\n\nCholesterol\n\nMaxHR\n\nOldpeak\n\nThe attributes are categorized based on their nature: nominal (categories without intrinsic order), ordinal (categories with a specific order),\n\nbinary (two possible values), and numeric (quantitative values).\n\n\n\n\n\n\n ",
      "metadata": {}
    },
    {
      "cell_type": "code",
      "source": "",
      "metadata": {
        "trusted": true
      },
      "outputs": [],
      "execution_count": null
    }
  ]
}