{
  "metadata": {
    "kernelspec": {
      "name": "python",
      "display_name": "Python (Pyodide)",
      "language": "python"
    },
    "language_info": {
      "codemirror_mode": {
        "name": "python",
        "version": 3
      },
      "file_extension": ".py",
      "mimetype": "text/x-python",
      "name": "python",
      "nbconvert_exporter": "python",
      "pygments_lexer": "ipython3",
      "version": "3.8"
    }
  },
  "nbformat_minor": 4,
  "nbformat": 4,
  "cells": [
    {
      "cell_type": "code",
      "source": "Description of dataset\n\n-Goal of collection this dataset:\n   Our project aims to use Python and data mining techniques on a heart failure prediction dataset. With attributes like \nage, sex, ChestPainType, RestingBP, Cholesterol, FastingBS, RestingECG, MaxHR, ExerciseAngina, Oldpeak, ST_Slope, and \nHeartDisease, we'll preprocess the data, apply different mining techniques, compare results, and share our findings on a\nGitHub repository with Jupyter notebooks. The focus is on creating effective models for heart failure prediction.\n\n-The source of dataset:\n    https://www.kaggle.com/datasets/fedesoriano/heart-failure-prediction\n\n-Our dataset contains 12 attributes and 918 objects and the type of attributes are \nNominal for :\nSex\nChestPainType\nFastingBS\nRestingECG\nExerciseAngina\nST_Slope\nHeartDisease (assuming it represents categories)\nBinary for:\nFastingBS\nExerciseAngina\nNumeric for:\nAge\nRestingBP\nCholesterol\nMaxHR\nOldpeak\nThe attributes are categorized based on their nature: nominal (categories without intrinsic order),\nbinary (two possible values), and numeric (quantitative values)\n",
      "metadata": {
        "trusted": true,
        "collapsed": true,
        "jupyter": {
          "outputs_hidden": true
        }
      },
      "outputs": [
        {
          "ename": "<class 'SyntaxError'>",
          "evalue": "unterminated string literal (detected at line 6) (<ipython-input-4-f6ece653cc8e>, line 6)",
          "traceback": [
            "\u001b[0;36m  Cell \u001b[0;32mIn[4], line 6\u001b[0;36m\u001b[0m\n\u001b[0;31m    HeartDisease, we'll preprocess the data, apply different mining techniques, compare results, and share our findings on a\u001b[0m\n\u001b[0m                    ^\u001b[0m\n\u001b[0;31mSyntaxError\u001b[0m\u001b[0;31m:\u001b[0m unterminated string literal (detected at line 6)\n"
          ],
          "output_type": "error"
        }
      ],
      "execution_count": 4
    },
    {
      "cell_type": "code",
      "source": "",
      "metadata": {
        "trusted": true
      },
      "outputs": [],
      "execution_count": null
    }
  ]
}