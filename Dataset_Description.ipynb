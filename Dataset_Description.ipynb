{
  "metadata": {
    "kernelspec": {
      "name": "python",
      "display_name": "Python (Pyodide)",
      "language": "python"
    },
    "language_info": {
      "codemirror_mode": {
        "name": "python",
        "version": 3
      },
      "file_extension": ".py",
      "mimetype": "text/x-python",
      "name": "python",
      "nbconvert_exporter": "python",
      "pygments_lexer": "ipython3",
      "version": "3.8"
    }
  },
  "nbformat_minor": 4,
  "nbformat": 4,
  "cells": [
    {
      "cell_type": "markdown",
      "source": "# Description of the dataset",
      "metadata": {}
    },
    {
      "cell_type": "markdown",
      "source": "## Goal: \nOur project aims to use Python and data mining techniques on a heart failure prediction dataset. With attributes like age, sex, ChestPainType, RestingBP, Cholesterol, FastingBS, RestingECG, MaxHR, ExerciseAngina, Oldpeak, ST_Slope, and HeartDisease, we'll preprocess the data, apply different mining techniques, compare results, and share our findings on a GitHub repository with Jupyter notebooks. The focus is on creating effective models for heart failure prediction.",
      "metadata": {}
    },
    {
      "cell_type": "markdown",
      "source": "## Source of dataset:\nthe source of dataset is kaggle. [Link] (https://www.kaggle.com/datasets/fedesoriano/heart-failure-prediction) .",
      "metadata": {}
    },
    {
      "cell_type": "markdown",
      "source": "## General information:\nour dataset contains 12 attributes and 918 objects and the type of attributes are:",
      "metadata": {}
    },
    {
      "cell_type": "markdown",
      "source": "| Attribute       | Description                                                                             | Data Type        |\n|-----------------|-----------------------------------------------------------------------------------------|------------------|\n| Age             | Age of the patient [years]                                                              | Numeric (Integer)|\n| Sex             | Sex of the patient [M: Male, F: Female]                                                | Categorical      |\n| ChestPainType   | Chest pain type [TA: Typical Angina, ATA: Atypical Angina, NAP: Non-Anginal Pain, ASY: Asymptomatic] | Categorical      |\n| RestingBP       | Resting blood pressure [mm Hg]                                                         | Numeric (Integer)|\n| Cholesterol     | Serum cholesterol [mm/dl]                                                              | Numeric (Integer)|\n| FastingBS       | Fasting blood sugar [1: if FastingBS > 120 mg/dl, 0: otherwise]                         | Categorical      |\n| RestingECG      | Resting electrocardiogram results [Normal: Normal, ST: ST-T wave abnormality, LVH: Left ventricular hypertrophy] | Categorical      |\n| MaxHR           | Maximum heart rate achieved [Numeric value between 60 and 202]                          | Numeric (Integer)|\n| ExerciseAngina  | Exercise-induced angina [Y: Yes, N: No]                                                | Categorical      |\n| Oldpeak         | Oldpeak = ST depression [Numeric value measured in depression]                          | Numeric (Float)  |\n| ST_Slope        | Slope of the peak exercise ST segment [Up: upsloping, Flat: flat, Down: downsloping]     | Categorical      |\n| HeartDisease    | Output class [1: heart disease, 0: Normal]                                             | Categorical      |\n",
      "metadata": {}
    },
    {
      "cell_type": "code",
      "source": "",
      "metadata": {
        "trusted": true
      },
      "outputs": [],
      "execution_count": null
    },
    {
      "cell_type": "code",
      "source": "",
      "metadata": {
        "trusted": true
      },
      "outputs": [],
      "execution_count": null
    }
  ]
}