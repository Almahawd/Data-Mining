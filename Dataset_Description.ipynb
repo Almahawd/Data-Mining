{
  "metadata": {
    "kernelspec": {
      "name": "python",
      "display_name": "Python (Pyodide)",
      "language": "python"
    },
    "language_info": {
      "codemirror_mode": {
        "name": "python",
        "version": 3
      },
      "file_extension": ".py",
      "mimetype": "text/x-python",
      "name": "python",
      "nbconvert_exporter": "python",
      "pygments_lexer": "ipython3",
      "version": "3.8"
    }
  },
  "nbformat_minor": 4,
  "nbformat": 4,
  "cells": [
    {
      "cell_type": "markdown",
      "source": "# Description of the dataset",
      "metadata": {}
    },
    {
      "cell_type": "markdown",
      "source": "## Goal: \nOur project aims to use Python and data mining techniques on a heart failure prediction dataset. With attributes like age, sex, ChestPainType, RestingBP, Cholesterol, FastingBS, RestingECG, MaxHR, ExerciseAngina, Oldpeak, ST_Slope, and HeartDisease, we'll preprocess the data, apply different mining techniques, compare results, and share our findings on a GitHub repository with Jupyter notebooks. The focus is on creating effective models for heart failure prediction.",
      "metadata": {}
    },
    {
      "cell_type": "markdown",
      "source": "## Source of dataset:\nthe source of dataset is kaggle. [Link] (https://www.kaggle.com/datasets/fedesoriano/heart-failure-prediction) .",
      "metadata": {}
    },
    {
      "cell_type": "markdown",
      "source": "## General information:\nour dataset contains 12 attributes and 918 objects and the type of attributes are:",
      "metadata": {}
    },
    {
      "cell_type": "code",
      "source": "import pandas as pd\n\ndata = {\n    \"Attribute\": [\"Age\", \"Sex\", \"ChestPainType\", \"RestingBP\", \"Cholesterol\", \"FastingBS\", \"RestingECG\", \"MaxHR\", \"ExerciseAngina\", \"Oldpeak\", \"ST_Slope\", \"HeartDisease\"],\n    \"Description\": [\"Age of the patient [years]\", \"Sex of the patient [M: Male, F: Female]\", \"Chest pain type [TA: Typical Angina, ATA: Atypical Angina, NAP: Non-Anginal Pain, ASY: Asymptomatic]\", \"Resting blood pressure [mm Hg]\", \"Serum cholesterol [mm/dl]\", \"Fasting blood sugar [1: if FastingBS > 120 mg/dl, 0: otherwise]\", \"Resting electrocardiogram results [Normal: Normal, ST: ST-T wave abnormality, LVH: Left ventricular hypertrophy]\", \"Maximum heart rate achieved [Numeric value between 60 and 202]\", \"Exercise-induced angina [Y: Yes, N: No]\", \"Oldpeak = ST depression [Numeric value measured in depression]\", \"Slope of the peak exercise ST segment [Up: upsloping, Flat: flat, Down: downsloping]\", \"Output class [1: heart disease, 0: Normal]\"],\n    \"Data Type\": [\"Numeric (Integer)\", \"Categorical\", \"Categorical\", \"Numeric (Integer)\", \"Numeric (Integer)\", \"Categorical\", \"Categorical\", \"Numeric (Integer)\", \"Categorical\", \"Numeric (Float)\", \"Categorical\", \"Categorical\"]\n}\n\ndf = pd.DataFrame(data)\n\ndf\n",
      "metadata": {
        "trusted": true
      },
      "outputs": [
        {
          "execution_count": 8,
          "output_type": "execute_result",
          "data": {
            "text/plain": "         Attribute                                        Description  \\\n0              Age                         Age of the patient [years]   \n1              Sex            Sex of the patient [M: Male, F: Female]   \n2    ChestPainType  Chest pain type [TA: Typical Angina, ATA: Atyp...   \n3        RestingBP                     Resting blood pressure [mm Hg]   \n4      Cholesterol                          Serum cholesterol [mm/dl]   \n5        FastingBS  Fasting blood sugar [1: if FastingBS > 120 mg/...   \n6       RestingECG  Resting electrocardiogram results [Normal: Nor...   \n7            MaxHR  Maximum heart rate achieved [Numeric value bet...   \n8   ExerciseAngina            Exercise-induced angina [Y: Yes, N: No]   \n9          Oldpeak  Oldpeak = ST depression [Numeric value measure...   \n10        ST_Slope  Slope of the peak exercise ST segment [Up: ups...   \n11    HeartDisease         Output class [1: heart disease, 0: Normal]   \n\n            Data Type  \n0   Numeric (Integer)  \n1         Categorical  \n2         Categorical  \n3   Numeric (Integer)  \n4   Numeric (Integer)  \n5         Categorical  \n6         Categorical  \n7   Numeric (Integer)  \n8         Categorical  \n9     Numeric (Float)  \n10        Categorical  \n11        Categorical  ",
            "text/html": "<div>\n<style scoped>\n    .dataframe tbody tr th:only-of-type {\n        vertical-align: middle;\n    }\n\n    .dataframe tbody tr th {\n        vertical-align: top;\n    }\n\n    .dataframe thead th {\n        text-align: right;\n    }\n</style>\n<table border=\"1\" class=\"dataframe\">\n  <thead>\n    <tr style=\"text-align: right;\">\n      <th></th>\n      <th>Attribute</th>\n      <th>Description</th>\n      <th>Data Type</th>\n    </tr>\n  </thead>\n  <tbody>\n    <tr>\n      <th>0</th>\n      <td>Age</td>\n      <td>Age of the patient [years]</td>\n      <td>Numeric (Integer)</td>\n    </tr>\n    <tr>\n      <th>1</th>\n      <td>Sex</td>\n      <td>Sex of the patient [M: Male, F: Female]</td>\n      <td>Categorical</td>\n    </tr>\n    <tr>\n      <th>2</th>\n      <td>ChestPainType</td>\n      <td>Chest pain type [TA: Typical Angina, ATA: Atyp...</td>\n      <td>Categorical</td>\n    </tr>\n    <tr>\n      <th>3</th>\n      <td>RestingBP</td>\n      <td>Resting blood pressure [mm Hg]</td>\n      <td>Numeric (Integer)</td>\n    </tr>\n    <tr>\n      <th>4</th>\n      <td>Cholesterol</td>\n      <td>Serum cholesterol [mm/dl]</td>\n      <td>Numeric (Integer)</td>\n    </tr>\n    <tr>\n      <th>5</th>\n      <td>FastingBS</td>\n      <td>Fasting blood sugar [1: if FastingBS &gt; 120 mg/...</td>\n      <td>Categorical</td>\n    </tr>\n    <tr>\n      <th>6</th>\n      <td>RestingECG</td>\n      <td>Resting electrocardiogram results [Normal: Nor...</td>\n      <td>Categorical</td>\n    </tr>\n    <tr>\n      <th>7</th>\n      <td>MaxHR</td>\n      <td>Maximum heart rate achieved [Numeric value bet...</td>\n      <td>Numeric (Integer)</td>\n    </tr>\n    <tr>\n      <th>8</th>\n      <td>ExerciseAngina</td>\n      <td>Exercise-induced angina [Y: Yes, N: No]</td>\n      <td>Categorical</td>\n    </tr>\n    <tr>\n      <th>9</th>\n      <td>Oldpeak</td>\n      <td>Oldpeak = ST depression [Numeric value measure...</td>\n      <td>Numeric (Float)</td>\n    </tr>\n    <tr>\n      <th>10</th>\n      <td>ST_Slope</td>\n      <td>Slope of the peak exercise ST segment [Up: ups...</td>\n      <td>Categorical</td>\n    </tr>\n    <tr>\n      <th>11</th>\n      <td>HeartDisease</td>\n      <td>Output class [1: heart disease, 0: Normal]</td>\n      <td>Categorical</td>\n    </tr>\n  </tbody>\n</table>\n</div>"
          },
          "metadata": {}
        }
      ],
      "execution_count": 8
    },
    {
      "cell_type": "code",
      "source": "",
      "metadata": {
        "trusted": true
      },
      "outputs": [],
      "execution_count": null
    }
  ]
}